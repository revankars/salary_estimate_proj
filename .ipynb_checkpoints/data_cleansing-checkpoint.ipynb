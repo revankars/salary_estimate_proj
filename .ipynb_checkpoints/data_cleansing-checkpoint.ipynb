{
 "cells": [
  {
   "cell_type": "code",
   "execution_count": 99,
   "metadata": {},
   "outputs": [],
   "source": [
    "\"\"\"\n",
    "Created on Dec 26th 2020\n",
    "@author: Sai\n",
    "\"\"\"\n",
    "import pandas as pd \n",
    "\n",
    "df = pd.read_csv(\"glassdoors_jobs.csv\")\n",
    "#salary parsing\n",
    "\n",
    "df['hourly'] = df['Salary Estimate'].apply(lambda x: 1 if 'per hour' in x.lower() else 0)\n",
    "df['employer_provided'] = df['Salary Estimate'].apply(lambda x: 1 if 'employer provided salary:' in x.lower() else 0)\n",
    "\n",
    "df = df[df['Salary Estimate'] != '-1']\n",
    "salary = df['Salary Estimate'].apply(lambda x: x.split('(')[0])\n",
    "minus_sal = salary.apply(lambda x:x.replace('K','').replace('$',''))\n",
    "\n",
    "min_hr = minus_sal.apply(lambda x:x.lower().replace('per hour','').replace('employer provided salary:',''))\n",
    "df['min_salary'] = min_hr.apply(lambda x:int(x.split('-')[0]))\n",
    "df['max_salary'] = min_hr.apply(lambda x:int(x.split('-')[1]))\n",
    "df['avg_salary'] = (df['min_salary']+df['max_salary'])/2\n",
    "\n",
    "#Company name text only\n",
    "df['company_txt'] = df.apply(lambda x: x['Company Name'] if x['Rating'] < 0 else x['Company Name'][:-3],axis=1)\n",
    "\n",
    "#state field\n",
    "df['job_state'] = df['Location'].apply(lambda x: x.split(',')[1])\n",
    "# Count across each state\n",
    "df.job_state.value_counts()\n",
    "df['same_state'] = df.apply(lambda x: 1 if x.Location == x.Headquarters else 0, axis=1)\n",
    "#age of company\n",
    "df['age'] = df.Founded.apply(lambda x: x if x < 1 else 2020-x)\n",
    "#parsing of job description \n",
    "df['Job Description']\n",
    "\n",
    "#Python\n",
    "df['python_yn'] = df['Job Description'].apply(lambda x: 1 if 'python' in x.lower() else 0)\n",
    "df.python_yn.value_counts()\n",
    "#r studio\n",
    "df['R_yn'] = df['Job Description'].apply(lambda x: 1 if 'r-studio' in x.lower() else 0)\n",
    "df.R_yn.value_counts()\n",
    "#spark\n",
    "df['spark'] = df['Job Description'].apply(lambda x: 1 if 'spark' in x.lower() else 0)\n",
    "df.spark.value_counts()\n",
    "\n",
    "#aws\n",
    "df['aws'] = df['Job Description'].apply(lambda x: 1 if 'aws' in x.lower() else 0)\n",
    "df.aws.value_counts()\n",
    "#excel\n",
    "df['excel'] = df['Job Description'].apply(lambda x: 1 if 'excel' in x.lower() else 0)\n",
    "df.aws.value_counts()\n",
    "\n",
    "df.columns\n",
    "\n",
    "df_out = df.drop(['Unnamed: 0'],axis=1)\n",
    "df_out.to_csv('salary_cleaned.csv',index=False)"
   ]
  },
  {
   "cell_type": "code",
   "execution_count": null,
   "metadata": {},
   "outputs": [],
   "source": []
  }
 ],
 "metadata": {
  "kernelspec": {
   "display_name": "Python 3",
   "language": "python",
   "name": "python3"
  },
  "language_info": {
   "codemirror_mode": {
    "name": "ipython",
    "version": 3
   },
   "file_extension": ".py",
   "mimetype": "text/x-python",
   "name": "python",
   "nbconvert_exporter": "python",
   "pygments_lexer": "ipython3",
   "version": "3.7.6"
  }
 },
 "nbformat": 4,
 "nbformat_minor": 4
}
